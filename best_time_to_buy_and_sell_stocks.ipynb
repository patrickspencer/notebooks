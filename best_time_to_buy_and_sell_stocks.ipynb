{
  "nbformat": 4,
  "nbformat_minor": 0,
  "metadata": {
    "colab": {
      "provenance": [],
      "authorship_tag": "ABX9TyMyUgfwIOnIJWdmriCqI6r0",
      "include_colab_link": true
    },
    "kernelspec": {
      "name": "python3",
      "display_name": "Python 3"
    },
    "language_info": {
      "name": "python"
    }
  },
  "cells": [
    {
      "cell_type": "markdown",
      "metadata": {
        "id": "view-in-github",
        "colab_type": "text"
      },
      "source": [
        "<a href=\"https://colab.research.google.com/github/patrickspencer/notebooks/blob/main/best_time_to_buy_and_sell_stocks.ipynb\" target=\"_parent\"><img src=\"https://colab.research.google.com/assets/colab-badge.svg\" alt=\"Open In Colab\"/></a>"
      ]
    },
    {
      "cell_type": "code",
      "execution_count": null,
      "metadata": {
        "id": "iUROIDPz90Sm"
      },
      "outputs": [],
      "source": [
        "from typing import List\n",
        "class Solution:\n",
        "    def maxProfit(self, prices: List[int]) -> int:\n",
        "\n",
        "        buy = float('inf')\n",
        "        sell = float('-inf')\n",
        "        \n",
        "        for p in prices:\n",
        "            buy = min(buy, p)\n",
        "            sell = max(sell, p - buy)\n",
        "        \n",
        "        return sell"
      ]
    },
    {
      "cell_type": "code",
      "source": [
        "prices = [7,1,5,3,6,4]\n",
        "buy = float('inf')\n",
        "sell = float('-inf')\n",
        "\n",
        "for p in prices:\n",
        "    buy = min(buy, p)\n",
        "    sell = max(sell, p - buy)\n",
        "\n",
        "print(sell)"
      ],
      "metadata": {
        "colab": {
          "base_uri": "https://localhost:8080/"
        },
        "id": "qSIbipjk-3oa",
        "outputId": "6278d892-d86c-4a5d-fa4e-75530786b877"
      },
      "execution_count": 1,
      "outputs": [
        {
          "output_type": "stream",
          "name": "stdout",
          "text": [
            "5\n"
          ]
        }
      ]
    },
    {
      "cell_type": "code",
      "source": [],
      "metadata": {
        "id": "UzBF-Xvt-9YT"
      },
      "execution_count": null,
      "outputs": []
    }
  ]
}