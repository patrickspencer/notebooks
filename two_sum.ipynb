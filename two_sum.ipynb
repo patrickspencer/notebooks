{
  "nbformat": 4,
  "nbformat_minor": 0,
  "metadata": {
    "colab": {
      "provenance": [],
      "authorship_tag": "ABX9TyPhoDH8Alpz6spFfYAFthWY",
      "include_colab_link": true
    },
    "kernelspec": {
      "name": "python3",
      "display_name": "Python 3"
    },
    "language_info": {
      "name": "python"
    }
  },
  "cells": [
    {
      "cell_type": "markdown",
      "metadata": {
        "id": "view-in-github",
        "colab_type": "text"
      },
      "source": [
        "<a href=\"https://colab.research.google.com/github/patrickspencer/notebooks/blob/main/two_sum.ipynb\" target=\"_parent\"><img src=\"https://colab.research.google.com/assets/colab-badge.svg\" alt=\"Open In Colab\"/></a>"
      ]
    },
    {
      "cell_type": "code",
      "execution_count": 9,
      "metadata": {
        "id": "luxK1RKW4cK9"
      },
      "outputs": [],
      "source": [
        "# https://leetcode.com/problems/two-sum/\n",
        "\n",
        "from typing import List\n",
        "class Solution:\n",
        "    def twoSum(self, nums: List[int], target: int) -> List[int]:\n",
        "\n",
        "        ans = []\n",
        "        m = {} # index dict\n",
        "        nums = [2,7,11,15]\n",
        "\n",
        "        for i in range(n):\n",
        "            if nums[i] not in m:\n",
        "                m[nums[i]] = i\n",
        "            comp = target - nums[i]\n",
        "            if comp in m and m[comp] != i:\n",
        "                ans.append([m[comp], i])\n",
        "        \n",
        "        return ans\n"
      ]
    },
    {
      "cell_type": "code",
      "source": [
        "input = [2,7,11,15]\n",
        "Solution().twoSum(input, 9)"
      ],
      "metadata": {
        "colab": {
          "base_uri": "https://localhost:8080/"
        },
        "id": "0FyL6R3d4gpg",
        "outputId": "cee41e17-878f-4308-ef84-967bc18e1c27"
      },
      "execution_count": 10,
      "outputs": [
        {
          "output_type": "execute_result",
          "data": {
            "text/plain": [
              "[(0, 1)]"
            ]
          },
          "metadata": {},
          "execution_count": 10
        }
      ]
    },
    {
      "cell_type": "code",
      "source": [
        "m = {} # index dict\n",
        "nums = [2,7,11,15]\n",
        "for i in range(len(nums)):\n",
        "    if nums[i] not in m:\n",
        "        m[input[i]] = i\n",
        "    elif nums[i] == target - nums[m[nums[i]]] and i != nums[i]:\n",
        "        ans.append(m[i], i)"
      ],
      "metadata": {
        "id": "d8zMRLHQ5Jia"
      },
      "execution_count": 10,
      "outputs": []
    },
    {
      "cell_type": "code",
      "source": [
        "nums = [2,7,11,15]\n",
        "m = {}\n",
        "n = len(nums)\n",
        "target = 9\n",
        "ans = []\n",
        "for i in range(n):\n",
        "    if nums[i] not in m:\n",
        "        m[nums[i]] = i\n",
        "    complement = target - nums[i]\n",
        "    if complement in m and m[complement] != i:\n",
        "        ans.append([m[complement], i])"
      ],
      "metadata": {
        "id": "UaCgH7Rc7_TQ"
      },
      "execution_count": 18,
      "outputs": []
    },
    {
      "cell_type": "code",
      "source": [
        "ans"
      ],
      "metadata": {
        "colab": {
          "base_uri": "https://localhost:8080/"
        },
        "id": "2nLVC3kl8cYI",
        "outputId": "0dae593b-6592-4c75-f048-d0a1126b3d9e"
      },
      "execution_count": 19,
      "outputs": [
        {
          "output_type": "execute_result",
          "data": {
            "text/plain": [
              "[[0, 1]]"
            ]
          },
          "metadata": {},
          "execution_count": 19
        }
      ]
    },
    {
      "cell_type": "code",
      "source": [
        "for i in range(n):\n",
        "    if nums[i] not in m:\n",
        "        m[nums[i]] = i\n",
        "    comp = target - nums[i]\n",
        "    if comp in m and m[comp] != i:\n",
        "        ans.append([m[comp], i])"
      ],
      "metadata": {
        "id": "8sfzzHcM817h"
      },
      "execution_count": 20,
      "outputs": []
    },
    {
      "cell_type": "code",
      "source": [],
      "metadata": {
        "id": "5L6IKydI9b-m"
      },
      "execution_count": null,
      "outputs": []
    }
  ]
}