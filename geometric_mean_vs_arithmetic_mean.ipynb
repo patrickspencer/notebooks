{
  "nbformat": 4,
  "nbformat_minor": 0,
  "metadata": {
    "colab": {
      "provenance": [],
      "authorship_tag": "ABX9TyMz0fYE23mu1c85mR/5+SSc",
      "include_colab_link": true
    },
    "kernelspec": {
      "name": "python3",
      "display_name": "Python 3"
    },
    "language_info": {
      "name": "python"
    }
  },
  "cells": [
    {
      "cell_type": "markdown",
      "metadata": {
        "id": "view-in-github",
        "colab_type": "text"
      },
      "source": [
        "<a href=\"https://colab.research.google.com/github/patrickspencer/notebooks/blob/main/geometric_mean_vs_arithmetic_mean.ipynb\" target=\"_parent\"><img src=\"https://colab.research.google.com/assets/colab-badge.svg\" alt=\"Open In Colab\"/></a>"
      ]
    },
    {
      "cell_type": "code",
      "execution_count": 3,
      "metadata": {
        "id": "s2EPvTtWt71p"
      },
      "outputs": [],
      "source": [
        "import numpy as np\n",
        "from scipy.stats.mstats import gmean"
      ]
    },
    {
      "cell_type": "code",
      "source": [
        "a = np.array(sorted(np.random.randint(1, 11, 11)))\n",
        "a"
      ],
      "metadata": {
        "colab": {
          "base_uri": "https://localhost:8080/"
        },
        "id": "2EZI1gZmuCZu",
        "outputId": "1203ff7d-712e-4867-a8f0-d0d4960a70fd"
      },
      "execution_count": 24,
      "outputs": [
        {
          "output_type": "execute_result",
          "data": {
            "text/plain": [
              "array([ 2,  2,  5,  5,  5,  6,  7,  8,  9,  9, 10])"
            ]
          },
          "metadata": {},
          "execution_count": 24
        }
      ]
    },
    {
      "cell_type": "code",
      "source": [
        "a.mean()"
      ],
      "metadata": {
        "colab": {
          "base_uri": "https://localhost:8080/"
        },
        "id": "Et0FBJTivZNF",
        "outputId": "b0571c0f-04ba-4a6b-97d1-e6c4c9e8ae92"
      },
      "execution_count": 25,
      "outputs": [
        {
          "output_type": "execute_result",
          "data": {
            "text/plain": [
              "6.181818181818182"
            ]
          },
          "metadata": {},
          "execution_count": 25
        }
      ]
    },
    {
      "cell_type": "code",
      "source": [
        "p = np.prod(a)\n",
        "x = np.power(p, (1/a.shape[0]))"
      ],
      "metadata": {
        "id": "ZLbCBZx6vjZk"
      },
      "execution_count": 27,
      "outputs": []
    },
    {
      "cell_type": "code",
      "source": [
        "x"
      ],
      "metadata": {
        "colab": {
          "base_uri": "https://localhost:8080/"
        },
        "id": "KHTMe7Clv1b4",
        "outputId": "e62ff3f5-f8fa-42e6-8adc-241a5ee801b5"
      },
      "execution_count": 28,
      "outputs": [
        {
          "output_type": "execute_result",
          "data": {
            "text/plain": [
              "5.488274761798036"
            ]
          },
          "metadata": {},
          "execution_count": 28
        }
      ]
    },
    {
      "cell_type": "code",
      "source": [
        "gmean(list(a))"
      ],
      "metadata": {
        "colab": {
          "base_uri": "https://localhost:8080/"
        },
        "id": "NL-k4KEkv4P8",
        "outputId": "07760dde-64f0-48fe-cd55-0c01f47b3e90"
      },
      "execution_count": 31,
      "outputs": [
        {
          "output_type": "execute_result",
          "data": {
            "text/plain": [
              "5.488274761798035"
            ]
          },
          "metadata": {},
          "execution_count": 31
        }
      ]
    },
    {
      "cell_type": "code",
      "source": [
        "np.mean(a)"
      ],
      "metadata": {
        "colab": {
          "base_uri": "https://localhost:8080/"
        },
        "id": "yYn1opXZv_c0",
        "outputId": "f025be18-f3dc-40dc-e92c-d86dc09e0e71"
      },
      "execution_count": 32,
      "outputs": [
        {
          "output_type": "execute_result",
          "data": {
            "text/plain": [
              "6.181818181818182"
            ]
          },
          "metadata": {},
          "execution_count": 32
        }
      ]
    },
    {
      "cell_type": "code",
      "source": [
        "def g_mean(x):\n",
        "    a = np.log(x)\n",
        "    return np.exp(a.mean())\n",
        "\n",
        "g_mean(a)"
      ],
      "metadata": {
        "colab": {
          "base_uri": "https://localhost:8080/"
        },
        "id": "57dVNuEAulr7",
        "outputId": "b3fa28ce-5779-4e76-8b68-f8da84071cea"
      },
      "execution_count": 21,
      "outputs": [
        {
          "output_type": "stream",
          "name": "stderr",
          "text": [
            "<ipython-input-21-ba2b306a6288>:2: RuntimeWarning: divide by zero encountered in log\n",
            "  a = np.log(x)\n"
          ]
        },
        {
          "output_type": "execute_result",
          "data": {
            "text/plain": [
              "0.0"
            ]
          },
          "metadata": {},
          "execution_count": 21
        }
      ]
    },
    {
      "cell_type": "code",
      "source": [],
      "metadata": {
        "id": "Y2b-WlkPvD2s"
      },
      "execution_count": null,
      "outputs": []
    }
  ]
}