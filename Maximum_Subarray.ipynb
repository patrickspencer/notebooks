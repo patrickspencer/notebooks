{
  "nbformat": 4,
  "nbformat_minor": 0,
  "metadata": {
    "colab": {
      "provenance": [],
      "authorship_tag": "ABX9TyPB5NimaQUfAAKa2pURJi3c",
      "include_colab_link": true
    },
    "kernelspec": {
      "name": "python3",
      "display_name": "Python 3"
    },
    "language_info": {
      "name": "python"
    }
  },
  "cells": [
    {
      "cell_type": "markdown",
      "metadata": {
        "id": "view-in-github",
        "colab_type": "text"
      },
      "source": [
        "<a href=\"https://colab.research.google.com/github/patrickspencer/notebooks/blob/main/Maximum_Subarray.ipynb\" target=\"_parent\"><img src=\"https://colab.research.google.com/assets/colab-badge.svg\" alt=\"Open In Colab\"/></a>"
      ]
    },
    {
      "cell_type": "code",
      "execution_count": null,
      "metadata": {
        "id": "VQnDJTktF7Pe"
      },
      "outputs": [],
      "source": [
        "# https://leetcode.com/problems/maximum-subarray/description/\n",
        "# Solution: Kadane's Algorithm\n",
        "class Solution:\n",
        "    def maxSubArray(self, nums: List[int]) -> int:\n",
        "        \n",
        "        m = float('-inf') # max seen so far\n",
        "        for j in range(1, len(nums)):\n",
        "            cur = max(cur, nums[j])\n",
        "            m = max(nums[j] + m, 0)\n",
        "\n",
        "        return s"
      ]
    },
    {
      "cell_type": "code",
      "source": [
        "cur = msf = nums[0]\n",
        "\n",
        "for num in nums[1:]:\n",
        "    cur = max(num, cur+num)\n",
        "    msf = max(msf, cur)\n",
        "\n",
        "print(msf)"
      ],
      "metadata": {
        "id": "-oU62DFaF-Le"
      },
      "execution_count": null,
      "outputs": []
    }
  ]
}