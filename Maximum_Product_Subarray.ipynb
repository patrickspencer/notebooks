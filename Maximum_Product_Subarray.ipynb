{
  "nbformat": 4,
  "nbformat_minor": 0,
  "metadata": {
    "colab": {
      "provenance": [],
      "authorship_tag": "ABX9TyMlz9gaPJRAiSROB77AmbBV",
      "include_colab_link": true
    },
    "kernelspec": {
      "name": "python3",
      "display_name": "Python 3"
    },
    "language_info": {
      "name": "python"
    }
  },
  "cells": [
    {
      "cell_type": "markdown",
      "metadata": {
        "id": "view-in-github",
        "colab_type": "text"
      },
      "source": [
        "<a href=\"https://colab.research.google.com/github/patrickspencer/notebooks/blob/main/Maximum_Product_Subarray.ipynb\" target=\"_parent\"><img src=\"https://colab.research.google.com/assets/colab-badge.svg\" alt=\"Open In Colab\"/></a>"
      ]
    },
    {
      "cell_type": "code",
      "execution_count": null,
      "metadata": {
        "id": "9MErluieIM4s"
      },
      "outputs": [],
      "source": [
        "# https://leetcode.com/problems/maximum-product-subarray/description/\n",
        "class Solution:\n",
        "    def maxProduct(self, nums: List[int]) -> int:\n",
        "        \n",
        "        n = len(nums)\n",
        "        \n",
        "        if n == 0:\n",
        "            return 0\n",
        "        \n",
        "        misf = nums[0]\n",
        "        masf = nums[0]\n",
        "        result = masf\n",
        "        \n",
        "        for i in range(1, n):\n",
        "            cur = nums[i]\n",
        "            tmasf = max(cur, masf*cur, misf*cur)\n",
        "            misf = min(cur, masf*cur, misf*cur)\n",
        "            \n",
        "            masf = tmasf\n",
        "            \n",
        "            result = max(masf, result)\n",
        "            \n",
        "        return result"
      ]
    }
  ]
}