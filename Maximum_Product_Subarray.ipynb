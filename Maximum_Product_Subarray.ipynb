{
  "nbformat": 4,
  "nbformat_minor": 0,
  "metadata": {
    "colab": {
      "provenance": [],
      "authorship_tag": "ABX9TyOVEk22++K//MvC2RCwtz91",
      "include_colab_link": true
    },
    "kernelspec": {
      "name": "python3",
      "display_name": "Python 3"
    },
    "language_info": {
      "name": "python"
    }
  },
  "cells": [
    {
      "cell_type": "markdown",
      "metadata": {
        "id": "view-in-github",
        "colab_type": "text"
      },
      "source": [
        "<a href=\"https://colab.research.google.com/github/patrickspencer/notebooks/blob/main/Maximum_Product_Subarray.ipynb\" target=\"_parent\"><img src=\"https://colab.research.google.com/assets/colab-badge.svg\" alt=\"Open In Colab\"/></a>"
      ]
    },
    {
      "cell_type": "code",
      "execution_count": null,
      "metadata": {
        "id": "9MErluieIM4s"
      },
      "outputs": [],
      "source": [
        "# https://leetcode.com/problems/maximum-product-subarray/description/\n",
        "from typing import List\n",
        "\n",
        "class Solution:\n",
        "    def maxProduct(self, nums: List[int]) -> int:\n",
        "        \n",
        "        n = len(nums)\n",
        "        if n == 0:\n",
        "            return 0\n",
        "\n",
        "        max_so_far = nums[0]\n",
        "        min_so_far = nums[0]\n",
        "        ans = nums[0]\n",
        "\n",
        "        for num in nums[1:]:\n",
        "            temp_max_so_far = max(num, max_so_far*num, min_so_far*num)\n",
        "            min_so_far = min(num, max_so_far*num, min_so_far*num)\n",
        "            max_so_far = temp_max_so_far\n",
        "            ans = max(ans, max_so_far)\n",
        "\n",
        "        return ans"
      ]
    },
    {
      "cell_type": "code",
      "source": [
        "nums = [2,3,-2,4]\n",
        "nums = [-2,0,-1]"
      ],
      "metadata": {
        "id": "-bzLspqDJpK7"
      },
      "execution_count": null,
      "outputs": []
    }
  ]
}